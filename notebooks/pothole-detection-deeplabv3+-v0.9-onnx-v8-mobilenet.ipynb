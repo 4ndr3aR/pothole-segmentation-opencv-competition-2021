version https://git-lfs.github.com/spec/v1
oid sha256:c766539472f586b5c1ea9c0ae02cde04bcb36beb8a6d07198c0a3b6c6dc56aec
size 71537777
